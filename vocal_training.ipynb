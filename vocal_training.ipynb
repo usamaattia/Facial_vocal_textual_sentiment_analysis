{
 "cells": [
  {
   "cell_type": "code",
   "execution_count": 1,
   "metadata": {},
   "outputs": [
    {
     "name": "stdout",
     "output_type": "stream",
     "text": [
      "vocal\n"
     ]
    }
   ],
   "source": [
    "print('vocal')"
   ]
  },
  {
   "cell_type": "code",
   "execution_count": 2,
   "metadata": {},
   "outputs": [],
   "source": [
    "import os\n",
    "import pandas as pd\n",
    "import numpy as np\n"
   ]
  },
  {
   "cell_type": "code",
   "execution_count": 3,
   "metadata": {},
   "outputs": [],
   "source": [
    "RAVDESS = \"/path/voice/archive/audio_speech_actors_01-24/\"\n",
    "TESS = \"/path/voice/TESS Toronto emotional speech set data/\"\n",
    "SAVEE = \"/path/Downloads/voice/ALL_suurey/\""
   ]
  },
  {
   "cell_type": "code",
   "execution_count": 4,
   "metadata": {},
   "outputs": [
    {
     "ename": "FileNotFoundError",
     "evalue": "[Errno 2] No such file or directory: '/path/voice/archive/audio_speech_actors_01-24/'",
     "output_type": "error",
     "traceback": [
      "\u001b[0;31m---------------------------------------------------------------------------\u001b[0m",
      "\u001b[0;31mFileNotFoundError\u001b[0m                         Traceback (most recent call last)",
      "Cell \u001b[0;32mIn[4], line 1\u001b[0m\n\u001b[0;32m----> 1\u001b[0m ravdess_dir_lis \u001b[39m=\u001b[39m os\u001b[39m.\u001b[39;49mlistdir(RAVDESS)\n\u001b[1;32m      2\u001b[0m path_list \u001b[39m=\u001b[39m []\n\u001b[1;32m      3\u001b[0m gender_list \u001b[39m=\u001b[39m []\n",
      "\u001b[0;31mFileNotFoundError\u001b[0m: [Errno 2] No such file or directory: '/path/voice/archive/audio_speech_actors_01-24/'"
     ]
    }
   ],
   "source": [
    "ravdess_dir_lis = os.listdir(RAVDESS)\n",
    "path_list = []\n",
    "gender_list = []\n",
    "emotion_list = []\n",
    "\n",
    "emotion_dic = {\n",
    "    '03' : 'happy',\n",
    "    '01' : 'neutral',\n",
    "    '04' : 'sad',\n",
    "    '05' : 'angry',\n",
    "    '06' : 'fear',\n",
    "    '07' : 'disgust',\n",
    "}\n",
    "\n",
    "for directory in ravdess_dir_lis:\n",
    "    actor_files = os.listdir(os.path.join(RAVDESS, directory))\n",
    "    for audio_file in actor_files: \n",
    "        part = audio_file.split('.')[0]\n",
    "        key = part.split('-')[2]\n",
    "        if key in emotion_dic:\n",
    "            gender_code = int(part.split('-')[6])\n",
    "            path_list.append(f\"{RAVDESS}{directory}/{audio_file}\")\n",
    "            gender_list.append('female' if gender_code & 1 == 0 else 'male')\n",
    "            emotion_list.append(emotion_dic[key])\n",
    "            \n",
    "ravdess_df = pd.concat([\n",
    "    pd.DataFrame(path_list, columns=['path']),\n",
    "    pd.DataFrame(gender_list, columns=['sex']),\n",
    "    pd.DataFrame(emotion_list, columns=['emotion'])\n",
    "], axis=1)\n",
    "\n",
    "ravdess_df.head()          "
   ]
  },
  {
   "cell_type": "code",
   "execution_count": null,
   "metadata": {},
   "outputs": [
    {
     "data": {
      "text/html": [
       "<div>\n",
       "<style scoped>\n",
       "    .dataframe tbody tr th:only-of-type {\n",
       "        vertical-align: middle;\n",
       "    }\n",
       "\n",
       "    .dataframe tbody tr th {\n",
       "        vertical-align: top;\n",
       "    }\n",
       "\n",
       "    .dataframe thead th {\n",
       "        text-align: right;\n",
       "    }\n",
       "</style>\n",
       "<table border=\"1\" class=\"dataframe\">\n",
       "  <thead>\n",
       "    <tr style=\"text-align: right;\">\n",
       "      <th></th>\n",
       "      <th>path</th>\n",
       "      <th>sex</th>\n",
       "      <th>emotion</th>\n",
       "    </tr>\n",
       "  </thead>\n",
       "  <tbody>\n",
       "    <tr>\n",
       "      <th>0</th>\n",
       "      <td>/Users/usama/Downloads/voice/TESS Toronto emot...</td>\n",
       "      <td>female</td>\n",
       "      <td>disgust</td>\n",
       "    </tr>\n",
       "    <tr>\n",
       "      <th>1</th>\n",
       "      <td>/Users/usama/Downloads/voice/TESS Toronto emot...</td>\n",
       "      <td>female</td>\n",
       "      <td>disgust</td>\n",
       "    </tr>\n",
       "    <tr>\n",
       "      <th>2</th>\n",
       "      <td>/Users/usama/Downloads/voice/TESS Toronto emot...</td>\n",
       "      <td>female</td>\n",
       "      <td>disgust</td>\n",
       "    </tr>\n",
       "    <tr>\n",
       "      <th>3</th>\n",
       "      <td>/Users/usama/Downloads/voice/TESS Toronto emot...</td>\n",
       "      <td>female</td>\n",
       "      <td>disgust</td>\n",
       "    </tr>\n",
       "    <tr>\n",
       "      <th>4</th>\n",
       "      <td>/Users/usama/Downloads/voice/TESS Toronto emot...</td>\n",
       "      <td>female</td>\n",
       "      <td>disgust</td>\n",
       "    </tr>\n",
       "  </tbody>\n",
       "</table>\n",
       "</div>"
      ],
      "text/plain": [
       "                                                path     sex  emotion\n",
       "0  /Users/usama/Downloads/voice/TESS Toronto emot...  female  disgust\n",
       "1  /Users/usama/Downloads/voice/TESS Toronto emot...  female  disgust\n",
       "2  /Users/usama/Downloads/voice/TESS Toronto emot...  female  disgust\n",
       "3  /Users/usama/Downloads/voice/TESS Toronto emot...  female  disgust\n",
       "4  /Users/usama/Downloads/voice/TESS Toronto emot...  female  disgust"
      ]
     },
     "execution_count": 5,
     "metadata": {},
     "output_type": "execute_result"
    }
   ],
   "source": [
    "tess_dir_list = os.listdir(TESS)\n",
    "path_list = []\n",
    "gender_list = []\n",
    "emotion_list = [] \n",
    "\n",
    "emotion_dic = {\n",
    "    'happy'   : 'happy',\n",
    "    'neutral' : 'neutral',\n",
    "    'sad'     : 'sad',\n",
    "    'Sad'     : 'sad',\n",
    "    'angry'   : 'angry',\n",
    "    'fear'    : 'fear',\n",
    "    'disgust'  : 'disgust',\n",
    "}\n",
    "\n",
    "for directory in tess_dir_list:\n",
    "    audio_files = os.listdir(os.path.join(TESS, directory))\n",
    "    \n",
    "    for audio_file in audio_files:\n",
    "        try:\n",
    "            part = audio_file.split('.')[0]\n",
    "            key = part.split('_')[2]\n",
    "            if key in emotion_dic:\n",
    "                path_list.append(f\"{TESS}{directory}/{audio_file}\") \n",
    "                gender_list.append('female') # female only dataset\n",
    "                emotion_list.append(emotion_dic[key])\n",
    "        except:\n",
    "            pass\n",
    "                       \n",
    "tess_df = pd.concat([\n",
    "    pd.DataFrame(path_list, columns=['path']),\n",
    "    pd.DataFrame(gender_list, columns=['sex']),\n",
    "    pd.DataFrame(emotion_list, columns=['emotion'])\n",
    "], axis=1)\n",
    "\n",
    "tess_df.head()"
   ]
  },
  {
   "cell_type": "code",
   "execution_count": null,
   "metadata": {},
   "outputs": [
    {
     "data": {
      "text/html": [
       "<div>\n",
       "<style scoped>\n",
       "    .dataframe tbody tr th:only-of-type {\n",
       "        vertical-align: middle;\n",
       "    }\n",
       "\n",
       "    .dataframe tbody tr th {\n",
       "        vertical-align: top;\n",
       "    }\n",
       "\n",
       "    .dataframe thead th {\n",
       "        text-align: right;\n",
       "    }\n",
       "</style>\n",
       "<table border=\"1\" class=\"dataframe\">\n",
       "  <thead>\n",
       "    <tr style=\"text-align: right;\">\n",
       "      <th></th>\n",
       "      <th>path</th>\n",
       "      <th>sex</th>\n",
       "      <th>emotion</th>\n",
       "    </tr>\n",
       "  </thead>\n",
       "  <tbody>\n",
       "    <tr>\n",
       "      <th>0</th>\n",
       "      <td>/Users/usama/Downloads/voice/ALL_suurey/JK_sa0...</td>\n",
       "      <td>male</td>\n",
       "      <td>sad</td>\n",
       "    </tr>\n",
       "    <tr>\n",
       "      <th>1</th>\n",
       "      <td>/Users/usama/Downloads/voice/ALL_suurey/JK_sa1...</td>\n",
       "      <td>male</td>\n",
       "      <td>sad</td>\n",
       "    </tr>\n",
       "    <tr>\n",
       "      <th>2</th>\n",
       "      <td>/Users/usama/Downloads/voice/ALL_suurey/DC_n13...</td>\n",
       "      <td>male</td>\n",
       "      <td>neutral</td>\n",
       "    </tr>\n",
       "    <tr>\n",
       "      <th>3</th>\n",
       "      <td>/Users/usama/Downloads/voice/ALL_suurey/DC_n07...</td>\n",
       "      <td>male</td>\n",
       "      <td>neutral</td>\n",
       "    </tr>\n",
       "    <tr>\n",
       "      <th>4</th>\n",
       "      <td>/Users/usama/Downloads/voice/ALL_suurey/JK_n20...</td>\n",
       "      <td>male</td>\n",
       "      <td>neutral</td>\n",
       "    </tr>\n",
       "  </tbody>\n",
       "</table>\n",
       "</div>"
      ],
      "text/plain": [
       "                                                path   sex  emotion\n",
       "0  /Users/usama/Downloads/voice/ALL_suurey/JK_sa0...  male      sad\n",
       "1  /Users/usama/Downloads/voice/ALL_suurey/JK_sa1...  male      sad\n",
       "2  /Users/usama/Downloads/voice/ALL_suurey/DC_n13...  male  neutral\n",
       "3  /Users/usama/Downloads/voice/ALL_suurey/DC_n07...  male  neutral\n",
       "4  /Users/usama/Downloads/voice/ALL_suurey/JK_n20...  male  neutral"
      ]
     },
     "execution_count": 6,
     "metadata": {},
     "output_type": "execute_result"
    }
   ],
   "source": [
    "savee_dir_list = os.listdir(SAVEE)\n",
    "path_list = []\n",
    "gender_list = []\n",
    "emotion_list = []\n",
    "\n",
    "emotion_dic = {\n",
    "    'h'  : 'happy',\n",
    "    'n'  : 'neutral',\n",
    "    'sa' : 'sad',\n",
    "    'a'  : 'angry',\n",
    "    'f'  : 'fear',\n",
    "    'd'  : 'disgust'\n",
    "}\n",
    "\n",
    "for audio_file in savee_dir_list:\n",
    "    part = audio_file.split('_')[1]\n",
    "    key = part[:-6]\n",
    "    if key in emotion_dic:\n",
    "        path_list.append(f\"{SAVEE}{audio_file}\")\n",
    "        gender_list.append('male') # male only dataset\n",
    "        emotion_list.append(emotion_dic[key])\n",
    "        \n",
    "savee_df = pd.concat([\n",
    "    pd.DataFrame(path_list, columns=['path']),\n",
    "    pd.DataFrame(gender_list, columns=['sex']),\n",
    "    pd.DataFrame(emotion_list, columns=['emotion'])\n",
    "], axis=1)\n",
    "\n",
    "savee_df.head()"
   ]
  },
  {
   "cell_type": "code",
   "execution_count": null,
   "metadata": {},
   "outputs": [
    {
     "data": {
      "text/html": [
       "<div>\n",
       "<style scoped>\n",
       "    .dataframe tbody tr th:only-of-type {\n",
       "        vertical-align: middle;\n",
       "    }\n",
       "\n",
       "    .dataframe tbody tr th {\n",
       "        vertical-align: top;\n",
       "    }\n",
       "\n",
       "    .dataframe thead th {\n",
       "        text-align: right;\n",
       "    }\n",
       "</style>\n",
       "<table border=\"1\" class=\"dataframe\">\n",
       "  <thead>\n",
       "    <tr style=\"text-align: right;\">\n",
       "      <th></th>\n",
       "      <th>path</th>\n",
       "      <th>sex</th>\n",
       "      <th>emotion</th>\n",
       "    </tr>\n",
       "  </thead>\n",
       "  <tbody>\n",
       "    <tr>\n",
       "      <th>0</th>\n",
       "      <td>/Users/usama/Downloads/voice/archive/audio_spe...</td>\n",
       "      <td>female</td>\n",
       "      <td>angry</td>\n",
       "    </tr>\n",
       "    <tr>\n",
       "      <th>1</th>\n",
       "      <td>/Users/usama/Downloads/voice/archive/audio_spe...</td>\n",
       "      <td>female</td>\n",
       "      <td>fear</td>\n",
       "    </tr>\n",
       "    <tr>\n",
       "      <th>2</th>\n",
       "      <td>/Users/usama/Downloads/voice/archive/audio_spe...</td>\n",
       "      <td>female</td>\n",
       "      <td>fear</td>\n",
       "    </tr>\n",
       "    <tr>\n",
       "      <th>3</th>\n",
       "      <td>/Users/usama/Downloads/voice/archive/audio_spe...</td>\n",
       "      <td>female</td>\n",
       "      <td>angry</td>\n",
       "    </tr>\n",
       "    <tr>\n",
       "      <th>4</th>\n",
       "      <td>/Users/usama/Downloads/voice/archive/audio_spe...</td>\n",
       "      <td>female</td>\n",
       "      <td>disgust</td>\n",
       "    </tr>\n",
       "  </tbody>\n",
       "</table>\n",
       "</div>"
      ],
      "text/plain": [
       "                                                path     sex  emotion\n",
       "0  /Users/usama/Downloads/voice/archive/audio_spe...  female    angry\n",
       "1  /Users/usama/Downloads/voice/archive/audio_spe...  female     fear\n",
       "2  /Users/usama/Downloads/voice/archive/audio_spe...  female     fear\n",
       "3  /Users/usama/Downloads/voice/archive/audio_spe...  female    angry\n",
       "4  /Users/usama/Downloads/voice/archive/audio_spe...  female  disgust"
      ]
     },
     "execution_count": 7,
     "metadata": {},
     "output_type": "execute_result"
    }
   ],
   "source": [
    "df = pd.concat([\n",
    "    ravdess_df, \n",
    "    tess_df, \n",
    "    savee_df\n",
    "], axis=0)\n",
    "df.head()"
   ]
  },
  {
   "cell_type": "code",
   "execution_count": null,
   "metadata": {},
   "outputs": [],
   "source": [
    "import librosa\n",
    "import matplotlib.pyplot as plt\n",
    "\n",
    "plt.style.use('ggplot')"
   ]
  },
  {
   "cell_type": "code",
   "execution_count": null,
   "metadata": {},
   "outputs": [
    {
     "data": {
      "image/png": "[encoded data removed]",
      "text/plain": [
       "<Figure size 600x300 with 1 Axes>"
      ]
     },
     "metadata": {},
     "output_type": "display_data"
    }
   ],
   "source": [
    "def plot_distribution(df): \n",
    "    countTable = df.groupby(['emotion', 'sex']).count()\n",
    "    pivotTable = countTable.pivot_table(index='emotion', columns='sex', values='path')\n",
    "\n",
    "    pivotTable.plot(kind='bar', figsize=(6, 3), color=['pink', 'blue'])\n",
    "    plt.title('Emotion and Gender Distribution')\n",
    "    plt.xlabel('Emotion')\n",
    "    plt.ylabel('Count')\n",
    "    plt.show()\n",
    "    \n",
    "plot_distribution(df)"
   ]
  },
  {
   "cell_type": "code",
   "execution_count": null,
   "metadata": {},
   "outputs": [
    {
     "data": {
      "image/png": "[encoded data removed]",
      "text/plain": [
       "<Figure size 600x300 with 1 Axes>"
      ]
     },
     "metadata": {},
     "output_type": "display_data"
    }
   ],
   "source": [
    "df = df[df['sex'] == 'female']\n",
    "plot_distribution(df)"
   ]
  },
  {
   "cell_type": "code",
   "execution_count": null,
   "metadata": {},
   "outputs": [
    {
     "data": {
      "text/html": [
       "<div>\n",
       "<style scoped>\n",
       "    .dataframe tbody tr th:only-of-type {\n",
       "        vertical-align: middle;\n",
       "    }\n",
       "\n",
       "    .dataframe tbody tr th {\n",
       "        vertical-align: top;\n",
       "    }\n",
       "\n",
       "    .dataframe thead th {\n",
       "        text-align: right;\n",
       "    }\n",
       "</style>\n",
       "<table border=\"1\" class=\"dataframe\">\n",
       "  <thead>\n",
       "    <tr style=\"text-align: right;\">\n",
       "      <th></th>\n",
       "      <th>path</th>\n",
       "      <th>emotion</th>\n",
       "    </tr>\n",
       "  </thead>\n",
       "  <tbody>\n",
       "    <tr>\n",
       "      <th>0</th>\n",
       "      <td>/Users/usama/Downloads/voice/archive/audio_spe...</td>\n",
       "      <td>angry</td>\n",
       "    </tr>\n",
       "    <tr>\n",
       "      <th>1</th>\n",
       "      <td>/Users/usama/Downloads/voice/archive/audio_spe...</td>\n",
       "      <td>fear</td>\n",
       "    </tr>\n",
       "    <tr>\n",
       "      <th>2</th>\n",
       "      <td>/Users/usama/Downloads/voice/archive/audio_spe...</td>\n",
       "      <td>fear</td>\n",
       "    </tr>\n",
       "    <tr>\n",
       "      <th>3</th>\n",
       "      <td>/Users/usama/Downloads/voice/archive/audio_spe...</td>\n",
       "      <td>angry</td>\n",
       "    </tr>\n",
       "    <tr>\n",
       "      <th>4</th>\n",
       "      <td>/Users/usama/Downloads/voice/archive/audio_spe...</td>\n",
       "      <td>disgust</td>\n",
       "    </tr>\n",
       "  </tbody>\n",
       "</table>\n",
       "</div>"
      ],
      "text/plain": [
       "                                                path  emotion\n",
       "0  /Users/usama/Downloads/voice/archive/audio_spe...    angry\n",
       "1  /Users/usama/Downloads/voice/archive/audio_spe...     fear\n",
       "2  /Users/usama/Downloads/voice/archive/audio_spe...     fear\n",
       "3  /Users/usama/Downloads/voice/archive/audio_spe...    angry\n",
       "4  /Users/usama/Downloads/voice/archive/audio_spe...  disgust"
      ]
     },
     "execution_count": 11,
     "metadata": {},
     "output_type": "execute_result"
    }
   ],
   "source": [
    "df.drop('sex', axis=1, inplace=True)\n",
    "df.head()"
   ]
  },
  {
   "cell_type": "code",
   "execution_count": null,
   "metadata": {},
   "outputs": [
    {
     "name": "stderr",
     "output_type": "stream",
     "text": [
      "/Users/usama/anaconda3/lib/python3.10/site-packages/pydub/utils.py:170: RuntimeWarning: Couldn't find ffmpeg or avconv - defaulting to ffmpeg, but may not work\n",
      "  warn(\"Couldn't find ffmpeg or avconv - defaulting to ffmpeg, but may not work\", RuntimeWarning)\n"
     ]
    }
   ],
   "source": [
    "from pydub import AudioSegment, effects"
   ]
  },
  {
   "cell_type": "code",
   "execution_count": null,
   "metadata": {},
   "outputs": [],
   "source": [
    "def preprocess_audio(path):\n",
    "    _, sr = librosa.load(path)\n",
    "    raw_audio = AudioSegment.from_file(path)\n",
    "    \n",
    "    samples = np.array(raw_audio.get_array_of_samples(), dtype='float32')\n",
    "    trimmed, _ = librosa.effects.trim(samples, top_db=25)\n",
    "    padded = np.pad(trimmed, (0, 180000-len(trimmed)), 'constant')\n",
    "    return padded, sr"
   ]
  },
  {
   "cell_type": "code",
   "execution_count": null,
   "metadata": {},
   "outputs": [],
   "source": [
    "emotion_dic = {\n",
    "    'neutral' : 0,\n",
    "    'happy'   : 1,\n",
    "    'sad'     : 2, \n",
    "    'angry'   : 3, \n",
    "    'fear'    : 4, \n",
    "    'disgust' : 5\n",
    "}\n",
    "\n",
    "def encode(label):\n",
    "    return emotion_dic.get(label)"
   ]
  },
  {
   "attachments": {},
   "cell_type": "markdown",
   "metadata": {},
   "source": [
    " Extract features"
   ]
  },
  {
   "cell_type": "code",
   "execution_count": null,
   "metadata": {},
   "outputs": [
    {
     "name": "stdout",
     "output_type": "stream",
     "text": [
      "Failed for path: /Users/usama/Downloads/voice/archive/audio_speech_actors_01-24/Actor_20/03-01-06-01-01-02-20.wav\n"
     ]
    },
    {
     "name": "stderr",
     "output_type": "stream",
     "text": [
      "/Users/usama/anaconda3/lib/python3.10/site-packages/pydub/utils.py:198: RuntimeWarning: Couldn't find ffprobe or avprobe - defaulting to ffprobe, but may not work\n",
      "  warn(\"Couldn't find ffprobe or avprobe - defaulting to ffprobe, but may not work\", RuntimeWarning)\n"
     ]
    },
    {
     "name": "stdout",
     "output_type": "stream",
     "text": [
      "Failed for path: /Users/usama/Downloads/voice/TESS Toronto emotional speech set data/YAF_fear/YAF_neat_fear.wav\n"
     ]
    },
    {
     "name": "stderr",
     "output_type": "stream",
     "text": [
      "/Users/usama/anaconda3/lib/python3.10/site-packages/pydub/utils.py:198: RuntimeWarning: Couldn't find ffprobe or avprobe - defaulting to ffprobe, but may not work\n",
      "  warn(\"Couldn't find ffprobe or avprobe - defaulting to ffprobe, but may not work\", RuntimeWarning)\n"
     ]
    },
    {
     "name": "stdout",
     "output_type": "stream",
     "text": [
      "Failed for path: /Users/usama/Downloads/voice/TESS Toronto emotional speech set data/YAF_angry/YAF_germ_angry.wav\n"
     ]
    }
   ],
   "source": [
    "zcr_list = []\n",
    "rms_list = []\n",
    "mfccs_list = []\n",
    "emotion_list = []\n",
    "\n",
    "FRAME_LENGTH = 2048\n",
    "HOP_LENGTH = 512\n",
    "\n",
    "for row in df.itertuples(index=False):\n",
    "    try: \n",
    "        y, sr = preprocess_audio(row.path)\n",
    "\n",
    "        zcr = librosa.feature.zero_crossing_rate(y, frame_length=FRAME_LENGTH, hop_length=HOP_LENGTH)\n",
    "        rms = librosa.feature.rms(y=y, frame_length=FRAME_LENGTH, hop_length=HOP_LENGTH)\n",
    "        mfccs = librosa.feature.mfcc(y=y, sr=sr, n_mfcc=13, hop_length=HOP_LENGTH)\n",
    "\n",
    "        zcr_list.append(zcr)\n",
    "        rms_list.append(rms)\n",
    "        mfccs_list.append(mfccs)\n",
    "\n",
    "        emotion_list.append(encode(row.emotion))\n",
    "    except:\n",
    "        print(f\"Failed for path: {row.path}\")"
   ]
  },
  {
   "cell_type": "code",
   "execution_count": null,
   "metadata": {},
   "outputs": [],
   "source": [
    "X = np.concatenate((\n",
    "    np.swapaxes(zcr_list, 1, 2), \n",
    "    np.swapaxes(rms_list, 1, 2), \n",
    "    np.swapaxes(mfccs_list, 1, 2)), \n",
    "    axis=2\n",
    ")\n",
    "X = X.astype('float32')\n",
    "\n",
    "y = np.asarray(emotion_list)\n",
    "y = np.expand_dims(y, axis=1).astype('int8')"
   ]
  },
  {
   "attachments": {},
   "cell_type": "markdown",
   "metadata": {},
   "source": [
    "Build a LSTM"
   ]
  },
  {
   "cell_type": "code",
   "execution_count": null,
   "metadata": {},
   "outputs": [],
   "source": [
    "from sklearn.model_selection import train_test_split\n",
    "from tensorflow.keras.utils import to_categorical\n"
   ]
  },
  {
   "cell_type": "code",
   "execution_count": null,
   "metadata": {},
   "outputs": [],
   "source": [
    "X_train, X_to_split, y_train, y_to_split = train_test_split(X, y, test_size=0.15, random_state=1)\n",
    "X_val, X_test, y_val, y_test = train_test_split(X_to_split, y_to_split, test_size=0.3, random_state=1)\n",
    "\n",
    "y_train_class = to_categorical(y_train, 6)\n",
    "y_val_class = to_categorical(y_val, 6)"
   ]
  },
  {
   "cell_type": "code",
   "execution_count": null,
   "metadata": {},
   "outputs": [],
   "source": [
    "\n",
    "from tensorflow.keras.models import Sequential\n",
    "from keras import layers, optimizers, callbacks, Model"
   ]
  },
  {
   "cell_type": "code",
   "execution_count": null,
   "metadata": {},
   "outputs": [
    {
     "name": "stdout",
     "output_type": "stream",
     "text": [
      "Model: \"sequential\"\n",
      "_________________________________________________________________\n",
      " Layer (type)                Output Shape              Param #   \n",
      "=================================================================\n",
      " lstm (LSTM)                 (None, 352, 64)           20480     \n",
      "                                                                 \n",
      " lstm_1 (LSTM)               (None, 64)                33024     \n",
      "                                                                 \n",
      " dense (Dense)               (None, 6)                 390       \n",
      "                                                                 \n",
      "=================================================================\n",
      "Total params: 53894 (210.52 KB)\n",
      "Trainable params: 53894 (210.52 KB)\n",
      "Non-trainable params: 0 (0.00 Byte)\n",
      "_________________________________________________________________\n",
      "None\n"
     ]
    }
   ],
   "source": [
    "model = Sequential()\n",
    "model.add(layers.LSTM(64, return_sequences=True, input_shape=(X.shape[1:3])))\n",
    "model.add(layers.LSTM(64))\n",
    "model.add(layers.Dense(6, activation='softmax'))\n",
    "print(model.summary())"
   ]
  },
  {
   "cell_type": "code",
   "execution_count": null,
   "metadata": {},
   "outputs": [
    {
     "name": "stdout",
     "output_type": "stream",
     "text": [
      "Epoch 1/50\n",
      "78/78 [==============================] - 19s 218ms/step - loss: 1.5674 - categorical_accuracy: 0.3524 - val_loss: 1.4820 - val_categorical_accuracy: 0.3681\n",
      "Epoch 2/50\n",
      "78/78 [==============================] - 16s 211ms/step - loss: 1.4206 - categorical_accuracy: 0.3894 - val_loss: 1.4165 - val_categorical_accuracy: 0.3844\n",
      "Epoch 3/50\n",
      "78/78 [==============================] - 17s 214ms/step - loss: 1.3226 - categorical_accuracy: 0.4566 - val_loss: 1.3142 - val_categorical_accuracy: 0.4691\n",
      "Epoch 4/50\n",
      "78/78 [==============================] - 16s 211ms/step - loss: 1.2608 - categorical_accuracy: 0.4883 - val_loss: 1.3113 - val_categorical_accuracy: 0.4951\n",
      "Epoch 5/50\n",
      "78/78 [==============================] - 16s 211ms/step - loss: 1.2223 - categorical_accuracy: 0.5008 - val_loss: 1.2346 - val_categorical_accuracy: 0.5049\n",
      "Epoch 6/50\n",
      "78/78 [==============================] - 16s 210ms/step - loss: 1.1677 - categorical_accuracy: 0.5253 - val_loss: 1.3154 - val_categorical_accuracy: 0.5114\n",
      "Epoch 7/50\n",
      "78/78 [==============================] - 16s 209ms/step - loss: 1.1230 - categorical_accuracy: 0.5438 - val_loss: 1.1444 - val_categorical_accuracy: 0.5375\n",
      "Epoch 8/50\n",
      "78/78 [==============================] - 16s 210ms/step - loss: 1.1225 - categorical_accuracy: 0.5406 - val_loss: 1.2384 - val_categorical_accuracy: 0.4723\n",
      "Epoch 9/50\n",
      "78/78 [==============================] - 17s 212ms/step - loss: 1.0606 - categorical_accuracy: 0.5768 - val_loss: 1.2301 - val_categorical_accuracy: 0.4853\n",
      "Epoch 10/50\n",
      "78/78 [==============================] - 16s 211ms/step - loss: 1.0474 - categorical_accuracy: 0.5917 - val_loss: 1.1655 - val_categorical_accuracy: 0.5700\n",
      "Epoch 11/50\n",
      "78/78 [==============================] - 16s 209ms/step - loss: 1.0194 - categorical_accuracy: 0.5945 - val_loss: 1.1980 - val_categorical_accuracy: 0.5016\n",
      "Epoch 12/50\n",
      "78/78 [==============================] - 18s 230ms/step - loss: 0.9950 - categorical_accuracy: 0.6150 - val_loss: 1.0824 - val_categorical_accuracy: 0.5700\n",
      "Epoch 13/50\n",
      "78/78 [==============================] - 17s 213ms/step - loss: 0.9782 - categorical_accuracy: 0.6090 - val_loss: 1.3242 - val_categorical_accuracy: 0.4788\n",
      "Epoch 14/50\n",
      "78/78 [==============================] - 16s 209ms/step - loss: 0.9647 - categorical_accuracy: 0.6227 - val_loss: 1.1338 - val_categorical_accuracy: 0.5668\n",
      "Epoch 15/50\n",
      "78/78 [==============================] - 16s 210ms/step - loss: 0.9186 - categorical_accuracy: 0.6448 - val_loss: 1.0170 - val_categorical_accuracy: 0.5928\n",
      "Epoch 16/50\n",
      "78/78 [==============================] - 16s 209ms/step - loss: 0.9028 - categorical_accuracy: 0.6573 - val_loss: 0.9202 - val_categorical_accuracy: 0.6254\n",
      "Epoch 17/50\n",
      "78/78 [==============================] - 16s 209ms/step - loss: 0.8545 - categorical_accuracy: 0.6681 - val_loss: 0.9131 - val_categorical_accuracy: 0.6515\n",
      "Epoch 18/50\n",
      "78/78 [==============================] - 16s 211ms/step - loss: 0.8389 - categorical_accuracy: 0.6874 - val_loss: 0.9075 - val_categorical_accuracy: 0.6612\n",
      "Epoch 19/50\n",
      "78/78 [==============================] - 16s 208ms/step - loss: 0.8013 - categorical_accuracy: 0.6971 - val_loss: 0.9968 - val_categorical_accuracy: 0.6384\n",
      "Epoch 20/50\n",
      "78/78 [==============================] - 17s 212ms/step - loss: 0.7990 - categorical_accuracy: 0.7047 - val_loss: 0.8631 - val_categorical_accuracy: 0.6808\n",
      "Epoch 21/50\n",
      "78/78 [==============================] - 17s 213ms/step - loss: 0.7704 - categorical_accuracy: 0.7192 - val_loss: 0.8054 - val_categorical_accuracy: 0.6938\n",
      "Epoch 22/50\n",
      "78/78 [==============================] - 17s 214ms/step - loss: 0.7770 - categorical_accuracy: 0.7132 - val_loss: 0.8045 - val_categorical_accuracy: 0.6971\n",
      "Epoch 23/50\n",
      "78/78 [==============================] - 16s 210ms/step - loss: 0.7641 - categorical_accuracy: 0.7140 - val_loss: 0.8095 - val_categorical_accuracy: 0.6938\n",
      "Epoch 24/50\n",
      "78/78 [==============================] - 17s 214ms/step - loss: 0.7376 - categorical_accuracy: 0.7261 - val_loss: 0.8851 - val_categorical_accuracy: 0.6515\n",
      "Epoch 25/50\n",
      "78/78 [==============================] - 16s 210ms/step - loss: 0.7286 - categorical_accuracy: 0.7329 - val_loss: 0.9056 - val_categorical_accuracy: 0.6840\n",
      "Epoch 26/50\n",
      "78/78 [==============================] - 16s 208ms/step - loss: 0.7139 - categorical_accuracy: 0.7422 - val_loss: 0.8312 - val_categorical_accuracy: 0.7068\n",
      "Epoch 27/50\n",
      "78/78 [==============================] - 16s 209ms/step - loss: 0.7198 - categorical_accuracy: 0.7430 - val_loss: 0.8102 - val_categorical_accuracy: 0.6906\n",
      "Epoch 28/50\n",
      "78/78 [==============================] - 16s 211ms/step - loss: 0.6707 - categorical_accuracy: 0.7490 - val_loss: 0.8945 - val_categorical_accuracy: 0.6743\n",
      "Epoch 29/50\n",
      "78/78 [==============================] - 16s 210ms/step - loss: 0.6657 - categorical_accuracy: 0.7643 - val_loss: 0.8345 - val_categorical_accuracy: 0.7068\n",
      "Epoch 30/50\n",
      "78/78 [==============================] - 16s 210ms/step - loss: 0.6550 - categorical_accuracy: 0.7679 - val_loss: 0.7000 - val_categorical_accuracy: 0.7687\n",
      "Epoch 31/50\n",
      "78/78 [==============================] - 16s 208ms/step - loss: 0.6146 - categorical_accuracy: 0.7755 - val_loss: 0.7061 - val_categorical_accuracy: 0.7622\n",
      "Epoch 32/50\n",
      "78/78 [==============================] - 16s 209ms/step - loss: 0.6250 - categorical_accuracy: 0.7880 - val_loss: 0.8213 - val_categorical_accuracy: 0.7036\n",
      "Epoch 33/50\n",
      "78/78 [==============================] - 16s 208ms/step - loss: 0.6071 - categorical_accuracy: 0.7852 - val_loss: 0.7071 - val_categorical_accuracy: 0.7459\n",
      "Epoch 34/50\n",
      "78/78 [==============================] - 16s 209ms/step - loss: 0.5921 - categorical_accuracy: 0.7892 - val_loss: 0.9682 - val_categorical_accuracy: 0.6710\n",
      "Epoch 35/50\n",
      "78/78 [==============================] - 16s 210ms/step - loss: 0.5826 - categorical_accuracy: 0.8033 - val_loss: 0.6825 - val_categorical_accuracy: 0.7492\n",
      "Epoch 36/50\n",
      "78/78 [==============================] - 16s 210ms/step - loss: 0.5674 - categorical_accuracy: 0.8021 - val_loss: 0.6661 - val_categorical_accuracy: 0.7622\n",
      "Epoch 37/50\n",
      "78/78 [==============================] - 16s 209ms/step - loss: 0.5636 - categorical_accuracy: 0.7961 - val_loss: 0.8089 - val_categorical_accuracy: 0.7101\n",
      "Epoch 38/50\n",
      "78/78 [==============================] - 16s 210ms/step - loss: 0.5628 - categorical_accuracy: 0.8033 - val_loss: 0.7160 - val_categorical_accuracy: 0.7394\n",
      "Epoch 39/50\n",
      "78/78 [==============================] - 16s 209ms/step - loss: 0.5285 - categorical_accuracy: 0.8121 - val_loss: 0.7760 - val_categorical_accuracy: 0.7524\n",
      "Epoch 40/50\n",
      "78/78 [==============================] - 16s 209ms/step - loss: 0.5523 - categorical_accuracy: 0.8021 - val_loss: 1.0347 - val_categorical_accuracy: 0.6417\n",
      "Epoch 41/50\n",
      "78/78 [==============================] - 16s 209ms/step - loss: 0.5413 - categorical_accuracy: 0.8061 - val_loss: 0.6675 - val_categorical_accuracy: 0.7524\n",
      "Epoch 42/50\n",
      "78/78 [==============================] - 16s 208ms/step - loss: 0.5113 - categorical_accuracy: 0.8222 - val_loss: 0.7127 - val_categorical_accuracy: 0.7590\n",
      "Epoch 43/50\n",
      "78/78 [==============================] - 16s 208ms/step - loss: 0.5795 - categorical_accuracy: 0.7900 - val_loss: 0.7211 - val_categorical_accuracy: 0.7590\n",
      "Epoch 44/50\n",
      "78/78 [==============================] - 16s 208ms/step - loss: 0.5026 - categorical_accuracy: 0.8278 - val_loss: 0.6881 - val_categorical_accuracy: 0.7492\n",
      "Epoch 45/50\n",
      "78/78 [==============================] - 16s 210ms/step - loss: 0.4942 - categorical_accuracy: 0.8278 - val_loss: 0.7110 - val_categorical_accuracy: 0.7720\n",
      "Epoch 46/50\n",
      "78/78 [==============================] - 16s 210ms/step - loss: 0.4945 - categorical_accuracy: 0.8339 - val_loss: 0.7515 - val_categorical_accuracy: 0.7362\n",
      "Epoch 47/50\n",
      "78/78 [==============================] - 16s 211ms/step - loss: 0.4739 - categorical_accuracy: 0.8391 - val_loss: 0.6975 - val_categorical_accuracy: 0.7590\n",
      "Epoch 48/50\n",
      "78/78 [==============================] - 16s 210ms/step - loss: 0.4438 - categorical_accuracy: 0.8528 - val_loss: 0.6404 - val_categorical_accuracy: 0.7818\n",
      "Epoch 49/50\n",
      "78/78 [==============================] - 16s 211ms/step - loss: 0.4661 - categorical_accuracy: 0.8427 - val_loss: 0.6291 - val_categorical_accuracy: 0.7752\n",
      "Epoch 50/50\n",
      "78/78 [==============================] - 16s 211ms/step - loss: 0.4449 - categorical_accuracy: 0.8516 - val_loss: 0.7434 - val_categorical_accuracy: 0.7557\n"
     ]
    }
   ],
   "source": [
    "rlrop = callbacks.ReduceLROnPlateau(monitor='val_categorical_accuracy', factor=0.2, patience=70)\n",
    "model.compile(loss='categorical_crossentropy', optimizer='RMSProp', metrics=['categorical_accuracy'])\n",
    "his = model.fit(X_train, y_train_class, epochs=50, batch_size=32, validation_data=(X_val, y_val_class))"
   ]
  },
  {
   "cell_type": "code",
   "execution_count": null,
   "metadata": {},
   "outputs": [
    {
     "name": "stderr",
     "output_type": "stream",
     "text": [
      "/Users/usama/anaconda3/lib/python3.10/site-packages/keras/src/engine/training.py:3000: UserWarning: You are saving your model as an HDF5 file via `model.save()`. This file format is considered legacy. We recommend using instead the native Keras format, e.g. `model.save('my_model.keras')`.\n",
      "  saving_api.save_model(\n"
     ]
    }
   ],
   "source": [
    "model.save('/Users/usama/Downloads/voice/my_model_weights_50epo_female.h5')"
   ]
  },
  {
   "attachments": {},
   "cell_type": "markdown",
   "metadata": {},
   "source": [
    "Evaluate and conclude"
   ]
  },
  {
   "cell_type": "code",
   "execution_count": null,
   "metadata": {},
   "outputs": [],
   "source": [
    "from sklearn.metrics import confusion_matrix"
   ]
  },
  {
   "cell_type": "code",
   "execution_count": null,
   "metadata": {},
   "outputs": [
    {
     "data": {
      "image/png": "[encoded data removed]",
      "text/plain": [
       "<Figure size 500x500 with 1 Axes>"
      ]
     },
     "metadata": {},
     "output_type": "display_data"
    }
   ],
   "source": [
    "plt.figure(figsize=(5, 5)) \n",
    "plt.plot(his.history['categorical_accuracy'])\n",
    "plt.plot(his.history['val_categorical_accuracy'])\n",
    "plt.ylabel('Accuracy') \n",
    "plt.xlabel('Epochs') \n",
    "plt.legend(['Training','Validation']) \n",
    "plt.show()"
   ]
  },
  {
   "cell_type": "code",
   "execution_count": null,
   "metadata": {},
   "outputs": [],
   "source": [
    "from keras.models import load_model\n",
    "model = load_model('/Users/usama/Downloads/voice/my_model_weights_100epo.h5')"
   ]
  },
  {
   "cell_type": "code",
   "execution_count": null,
   "metadata": {},
   "outputs": [
    {
     "ename": "TypeError",
     "evalue": "'NoneType' object is not subscriptable",
     "output_type": "error",
     "traceback": [
      "\u001b[0;31m---------------------------------------------------------------------------\u001b[0m",
      "\u001b[0;31mTypeError\u001b[0m                                 Traceback (most recent call last)",
      "Cell \u001b[0;32mIn[26], line 2\u001b[0m\n\u001b[1;32m      1\u001b[0m plt\u001b[39m.\u001b[39mfigure(figsize\u001b[39m=\u001b[39m(\u001b[39m5\u001b[39m, \u001b[39m5\u001b[39m)) \n\u001b[0;32m----> 2\u001b[0m plt\u001b[39m.\u001b[39mplot(model\u001b[39m.\u001b[39;49mhistory[\u001b[39m'\u001b[39;49m\u001b[39mcategorical_accuracy\u001b[39;49m\u001b[39m'\u001b[39;49m])\n\u001b[1;32m      3\u001b[0m plt\u001b[39m.\u001b[39mplot(model\u001b[39m.\u001b[39mhistory[\u001b[39m'\u001b[39m\u001b[39mval_categorical_accuracy\u001b[39m\u001b[39m'\u001b[39m])\n\u001b[1;32m      4\u001b[0m plt\u001b[39m.\u001b[39mylabel(\u001b[39m'\u001b[39m\u001b[39mAccuracy\u001b[39m\u001b[39m'\u001b[39m) \n",
      "\u001b[0;31mTypeError\u001b[0m: 'NoneType' object is not subscriptable"
     ]
    },
    {
     "data": {
      "text/plain": [
       "<Figure size 500x500 with 0 Axes>"
      ]
     },
     "metadata": {},
     "output_type": "display_data"
    }
   ],
   "source": [
    "plt.figure(figsize=(5, 5)) \n",
    "plt.plot(model.history['categorical_accuracy'])\n",
    "plt.plot(model.history['val_categorical_accuracy'])\n",
    "plt.ylabel('Accuracy') \n",
    "plt.xlabel('Epochs') \n",
    "plt.legend(['Training','Validation']) \n",
    "plt.show()"
   ]
  },
  {
   "cell_type": "code",
   "execution_count": null,
   "metadata": {},
   "outputs": [],
   "source": []
  }
 ],
 "metadata": {
  "kernelspec": {
   "display_name": "Python 3",
   "language": "python",
   "name": "python3"
  },
  "language_info": {
   "codemirror_mode": {
    "name": "ipython",
    "version": 3
   },
   "file_extension": ".py",
   "mimetype": "text/x-python",
   "name": "python",
   "nbconvert_exporter": "python",
   "pygments_lexer": "ipython3",
   "version": "3.10.9"
  },
  "orig_nbformat": 4
 },
 "nbformat": 4,
 "nbformat_minor": 2
}
